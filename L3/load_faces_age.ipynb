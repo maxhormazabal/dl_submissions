{
 "cells": [
  {
   "cell_type": "code",
   "execution_count": 1,
   "metadata": {
    "colab": {
     "base_uri": "https://localhost:8080/"
    },
    "executionInfo": {
     "elapsed": 43060,
     "status": "ok",
     "timestamp": 1634385011700,
     "user": {
      "displayName": "Brais CB",
      "photoUrl": "https://lh3.googleusercontent.com/a/default-user=s64",
      "userId": "09113625274943472862"
     },
     "user_tz": -120
    },
    "id": "oZSAcVZq5AC9",
    "outputId": "d88c0280-8244-4adb-f4d9-a758d9e2ab60"
   },
   "outputs": [],
   "source": [
    "# Dataset path\n",
    "from os import listdir\n",
    "import os.path\n",
    "\n",
    "PATH = './faces_dataset_train/'\n",
    "PATH_TEST = './faces_dataset_test/'\n",
    "\n",
    "assert os.path.exists(PATH), 'Verify the above commands'\n",
    "assert os.path.exists(PATH_TEST), 'Verify the above commands'"
   ]
  },
  {
   "cell_type": "markdown",
   "metadata": {
    "id": "7NjzTnkrzNGs"
   },
   "source": [
    "### Metadata access"
   ]
  },
  {
   "cell_type": "code",
   "execution_count": 2,
   "metadata": {
    "colab": {
     "base_uri": "https://localhost:8080/"
    },
    "executionInfo": {
     "elapsed": 608,
     "status": "ok",
     "timestamp": 1634385015531,
     "user": {
      "displayName": "Brais CB",
      "photoUrl": "https://lh3.googleusercontent.com/a/default-user=s64",
      "userId": "09113625274943472862"
     },
     "user_tz": -120
    },
    "id": "SciKNCwQzLoy",
    "outputId": "9d46ed8a-cdbc-4c67-8a8c-e5b5b9f430da"
   },
   "outputs": [
    {
     "name": "stdout",
     "output_type": "stream",
     "text": [
      "i07/nm0322407_rm852269056_1955-3-29_2005.jpg ----> {'age': 50, 'gender': 'M'}\n"
     ]
    }
   ],
   "source": [
    "import json\n",
    "\n",
    "with open(PATH + 'metadata.json') as fIn:\n",
    "    metadata = json.loads(fIn.read())\n",
    "with open(PATH_TEST + 'metadata.json') as fIn:\n",
    "    metadata_test = json.loads(fIn.read())\n",
    "\n",
    "metadata_example_key = next(iter(metadata.keys()))\n",
    "metadata_example_value = metadata[metadata_example_key]\n",
    "\n",
    "print(metadata_example_key, end=' ----> ')\n",
    "print(metadata_example_value)"
   ]
  },
  {
   "cell_type": "markdown",
   "metadata": {
    "id": "7m5BGd5BboRf"
   },
   "source": [
    "### Image reading"
   ]
  },
  {
   "cell_type": "code",
   "execution_count": 3,
   "metadata": {},
   "outputs": [],
   "source": [
    "import os    \n",
    "os.environ['KMP_DUPLICATE_LIB_OK'] = 'True'"
   ]
  },
  {
   "cell_type": "code",
   "execution_count": 4,
   "metadata": {
    "colab": {
     "base_uri": "https://localhost:8080/",
     "height": 1000
    },
    "executionInfo": {
     "elapsed": 11855,
     "status": "ok",
     "timestamp": 1634385034194,
     "user": {
      "displayName": "Brais CB",
      "photoUrl": "https://lh3.googleusercontent.com/a/default-user=s64",
      "userId": "09113625274943472862"
     },
     "user_tz": -120
    },
    "id": "C11_Qk_RWYoz",
    "outputId": "5b47fc86-f5c9-4f00-f1cb-ab4f268dddd8",
    "scrolled": false
   },
   "outputs": [
    {
     "name": "stderr",
     "output_type": "stream",
     "text": [
      "2023-03-06 10:35:53.981686: I tensorflow/core/platform/cpu_feature_guard.cc:193] This TensorFlow binary is optimized with oneAPI Deep Neural Network Library (oneDNN) to use the following CPU instructions in performance-critical operations:  AVX2 AVX_VNNI FMA\n",
      "To enable them in other operations, rebuild TensorFlow with the appropriate compiler flags.\n",
      "2023-03-06 10:35:54.035699: I tensorflow/core/util/port.cc:104] oneDNN custom operations are on. You may see slightly different numerical results due to floating-point round-off errors from different computation orders. To turn them off, set the environment variable `TF_ENABLE_ONEDNN_OPTS=0`.\n",
      "2023-03-06 10:35:54.296515: W tensorflow/compiler/xla/stream_executor/platform/default/dso_loader.cc:64] Could not load dynamic library 'libnvinfer.so.7'; dlerror: libnvinfer.so.7: cannot open shared object file: No such file or directory; LD_LIBRARY_PATH: :/home/victorxesus.barreiro/anaconda3/envs/deepgpu4/lib/\n",
      "2023-03-06 10:35:54.296546: W tensorflow/compiler/xla/stream_executor/platform/default/dso_loader.cc:64] Could not load dynamic library 'libnvinfer_plugin.so.7'; dlerror: libnvinfer_plugin.so.7: cannot open shared object file: No such file or directory; LD_LIBRARY_PATH: :/home/victorxesus.barreiro/anaconda3/envs/deepgpu4/lib/\n",
      "2023-03-06 10:35:54.296549: W tensorflow/compiler/tf2tensorrt/utils/py_utils.cc:38] TF-TRT Warning: Cannot dlopen some TensorRT libraries. If you would like to use Nvidia GPU with TensorRT, please make sure the missing libraries mentioned above are installed properly.\n"
     ]
    },
    {
     "name": "stdout",
     "output_type": "stream",
     "text": [
      "<TakeDataset element_spec=TensorSpec(shape=(), dtype=tf.string, name=None)>\n",
      "Image shape:  (32, 32, 3)\n",
      "Label:  44\n"
     ]
    },
    {
     "name": "stderr",
     "output_type": "stream",
     "text": [
      "2023-03-06 10:35:54.657403: I tensorflow/compiler/xla/stream_executor/cuda/cuda_gpu_executor.cc:981] successful NUMA node read from SysFS had negative value (-1), but there must be at least one NUMA node, so returning NUMA node zero\n",
      "2023-03-06 10:35:54.659621: I tensorflow/compiler/xla/stream_executor/cuda/cuda_gpu_executor.cc:981] successful NUMA node read from SysFS had negative value (-1), but there must be at least one NUMA node, so returning NUMA node zero\n",
      "2023-03-06 10:35:54.659686: I tensorflow/compiler/xla/stream_executor/cuda/cuda_gpu_executor.cc:981] successful NUMA node read from SysFS had negative value (-1), but there must be at least one NUMA node, so returning NUMA node zero\n",
      "2023-03-06 10:35:54.659896: I tensorflow/core/platform/cpu_feature_guard.cc:193] This TensorFlow binary is optimized with oneAPI Deep Neural Network Library (oneDNN) to use the following CPU instructions in performance-critical operations:  AVX2 AVX_VNNI FMA\n",
      "To enable them in other operations, rebuild TensorFlow with the appropriate compiler flags.\n",
      "2023-03-06 10:35:54.660589: I tensorflow/compiler/xla/stream_executor/cuda/cuda_gpu_executor.cc:981] successful NUMA node read from SysFS had negative value (-1), but there must be at least one NUMA node, so returning NUMA node zero\n",
      "2023-03-06 10:35:54.660641: I tensorflow/compiler/xla/stream_executor/cuda/cuda_gpu_executor.cc:981] successful NUMA node read from SysFS had negative value (-1), but there must be at least one NUMA node, so returning NUMA node zero\n",
      "2023-03-06 10:35:54.660681: I tensorflow/compiler/xla/stream_executor/cuda/cuda_gpu_executor.cc:981] successful NUMA node read from SysFS had negative value (-1), but there must be at least one NUMA node, so returning NUMA node zero\n",
      "2023-03-06 10:35:54.895361: I tensorflow/compiler/xla/stream_executor/cuda/cuda_gpu_executor.cc:981] successful NUMA node read from SysFS had negative value (-1), but there must be at least one NUMA node, so returning NUMA node zero\n",
      "2023-03-06 10:35:54.895469: I tensorflow/compiler/xla/stream_executor/cuda/cuda_gpu_executor.cc:981] successful NUMA node read from SysFS had negative value (-1), but there must be at least one NUMA node, so returning NUMA node zero\n",
      "2023-03-06 10:35:54.895516: I tensorflow/compiler/xla/stream_executor/cuda/cuda_gpu_executor.cc:981] successful NUMA node read from SysFS had negative value (-1), but there must be at least one NUMA node, so returning NUMA node zero\n",
      "2023-03-06 10:35:54.895561: I tensorflow/core/common_runtime/gpu/gpu_device.cc:1613] Created device /job:localhost/replica:0/task:0/device:GPU:0 with 199 MB memory:  -> device: 0, name: NVIDIA GeForce RTX 4090, pci bus id: 0000:01:00.0, compute capability: 8.9\n",
      "2023-03-06 10:35:54.910899: I tensorflow/compiler/xla/stream_executor/cuda/cuda_driver.cc:735] failed to allocate 199.12M (208797696 bytes) from device: CUDA_ERROR_OUT_OF_MEMORY: out of memory\n",
      "2023-03-06 10:35:54.911381: I tensorflow/compiler/xla/stream_executor/cuda/cuda_driver.cc:735] failed to allocate 179.21M (187918080 bytes) from device: CUDA_ERROR_OUT_OF_MEMORY: out of memory\n"
     ]
    },
    {
     "data": {
      "image/png": "[encoded data removed]",
      "text/plain": [
       "<Figure size 640x480 with 1 Axes>"
      ]
     },
     "metadata": {},
     "output_type": "display_data"
    },
    {
     "name": "stdout",
     "output_type": "stream",
     "text": [
      "Image shape:  (32, 32, 3)\n",
      "Label:  38\n"
     ]
    },
    {
     "data": {
      "image/png": "[encoded data removed]",
      "text/plain": [
       "<Figure size 640x480 with 1 Axes>"
      ]
     },
     "metadata": {},
     "output_type": "display_data"
    },
    {
     "name": "stdout",
     "output_type": "stream",
     "text": [
      "Image shape:  (32, 32, 3)\n",
      "Label:  34\n"
     ]
    },
    {
     "data": {
      "image/png": "[encoded data removed]",
      "text/plain": [
       "<Figure size 640x480 with 1 Axes>"
      ]
     },
     "metadata": {},
     "output_type": "display_data"
    },
    {
     "name": "stdout",
     "output_type": "stream",
     "text": [
      "Image shape:  (32, 32, 3)\n",
      "Label:  28\n"
     ]
    },
    {
     "data": {
      "image/png": "[encoded data removed]",
      "text/plain": [
       "<Figure size 640x480 with 1 Axes>"
      ]
     },
     "metadata": {},
     "output_type": "display_data"
    },
    {
     "name": "stdout",
     "output_type": "stream",
     "text": [
      "Image shape:  (32, 32, 3)\n",
      "Label:  45\n"
     ]
    },
    {
     "data": {
      "image/png": "[encoded data removed]",
      "text/plain": [
       "<Figure size 640x480 with 1 Axes>"
      ]
     },
     "metadata": {},
     "output_type": "display_data"
    }
   ],
   "source": [
    "import tensorflow as tf\n",
    "from matplotlib import pyplot\n",
    "\n",
    "# Size at which images will be processed\n",
    "img_height = 32\n",
    "img_width = 32\n",
    "\n",
    "def decode_img(img):\n",
    "    '''Transforms a string that represents the path of an image into a matrix\n",
    "    (img_height, img_width, 3) of uint8 representing the pixel values\n",
    "    '''\n",
    "    # Convert the compressed string to a 3D uint8 tensor\n",
    "    img = tf.io.decode_jpeg(img, channels=3)\n",
    "    # Resize the image to the desired size.\n",
    "    return tf.cast(tf.image.resize(img, [img_height, img_width]),tf.uint8)\n",
    "\n",
    "def process_path(file_path):\n",
    "    '''Transforms strings of the form 'path|age|gender' to tuples (image, label)\n",
    "    '''\n",
    "    parts = tf.strings.split(file_path, '|')\n",
    "    age = parts[1]\n",
    "    age = tf.strings.to_number(age, out_type=tf.dtypes.int32)\n",
    "    gender = parts[2]\n",
    "    # Load the raw data from the file as a string\n",
    "    img = tf.io.read_file(parts[0])\n",
    "    img = decode_img(img)\n",
    "    return img, age\n",
    "\n",
    "\n",
    "def format_metadata(m, path):\n",
    "    '''Transforms the metadata dictionary m into a list of strings of the form 'path to the image|age|gender'.\n",
    "    '''\n",
    "    return list(map(lambda x: '{0}{1}|{2}|{3}'.format(path,x,m[x]['age'],m[x]['gender']),m.keys()))\n",
    "\n",
    "# We build a dataset of text strings from the metadata\n",
    "train_metadata = format_metadata(metadata, PATH)\n",
    "train_ds = tf.data.Dataset.from_tensor_slices(train_metadata)\n",
    "print(train_ds.take(1))\n",
    "\n",
    "# Mapping to an image dataset with tags\n",
    "train_ds = train_ds.shuffle(len(train_ds)).map(process_path)\n",
    "\n",
    "# Same process for test\n",
    "test_ds = tf.data.Dataset.from_tensor_slices(format_metadata(metadata_test, PATH_TEST))\n",
    "test_ds = test_ds.map(process_path)\n",
    "\n",
    "# Checking\n",
    "for image, label in train_ds.take(5):\n",
    "    print(\"Image shape: \", image.numpy().shape)\n",
    "    print(\"Label: \", label.numpy())\n",
    "    pyplot.imshow(image.numpy())\n",
    "    pyplot.show()"
   ]
  },
  {
   "cell_type": "code",
   "execution_count": 5,
   "metadata": {
    "colab": {
     "base_uri": "https://localhost:8080/"
    },
    "executionInfo": {
     "elapsed": 289,
     "status": "ok",
     "timestamp": 1634385053497,
     "user": {
      "displayName": "Brais CB",
      "photoUrl": "https://lh3.googleusercontent.com/a/default-user=s64",
      "userId": "09113625274943472862"
     },
     "user_tz": -120
    },
    "id": "hYx17xd8jDp-",
    "outputId": "960a5992-2ac4-4cc4-9ff9-58ab89cbec7c"
   },
   "outputs": [
    {
     "name": "stdout",
     "output_type": "stream",
     "text": [
      "./faces_dataset_train/i07/nm0322407_rm852269056_1955-3-29_2005.jpg|50|M\n"
     ]
    }
   ],
   "source": [
    "ds_train_transform = train_ds\n",
    "ds_test_transform = test_ds\n",
    "print(train_metadata[0])"
   ]
  },
  {
   "cell_type": "code",
   "execution_count": 6,
   "metadata": {
    "id": "EtsmgEMAil8H"
   },
   "outputs": [
    {
     "name": "stdout",
     "output_type": "stream",
     "text": [
      "WARNING:tensorflow:From /home/victorxesus.barreiro/anaconda3/envs/deepgpu4/lib/python3.8/site-packages/tensorflow/python/autograph/pyct/static_analysis/liveness.py:83: Analyzer.lamba_check (from tensorflow.python.autograph.pyct.static_analysis.liveness) is deprecated and will be removed after 2023-09-23.\n",
      "Instructions for updating:\n",
      "Lambda fuctions will be no more assumed to be used in the statement where they are used, or at least in the same block. https://github.com/tensorflow/tensorflow/issues/56089\n"
     ]
    }
   ],
   "source": [
    "# OPTIONAL: rescaling input to [-1, 1]\n",
    "ds_train_transform = ds_train_transform.map(lambda image, label: (tf.cast(image, tf.float32)/127.5 - 1., label))\n",
    "ds_test_transform = ds_test_transform.map(lambda image, label: (tf.cast(image, tf.float32)/127.5 - 1., label))"
   ]
  },
  {
   "cell_type": "code",
   "execution_count": 7,
   "metadata": {
    "id": "L09prZNx7uWn"
   },
   "outputs": [],
   "source": [
    "# OPTIONAL: rescaled output to [0, 1]\n",
    "import numpy as np\n",
    "labels = [int(x.split('|')[1]) for x in train_metadata]\n",
    "max_age = tf.convert_to_tensor(np.max(labels), tf.float32)\n",
    "ds_train_transform = ds_train_transform.map(lambda image, label: (image, tf.cast(label, tf.float32)/max_age))\n",
    "ds_test_transform = ds_test_transform.map(lambda image, label: (image, tf.cast(label, tf.float32)/max_age))"
   ]
  },
  {
   "cell_type": "code",
   "execution_count": 8,
   "metadata": {
    "colab": {
     "base_uri": "https://localhost:8080/"
    },
    "executionInfo": {
     "elapsed": 211,
     "status": "ok",
     "timestamp": 1634336490127,
     "user": {
      "displayName": "Brais CB",
      "photoUrl": "https://lh3.googleusercontent.com/a/default-user=s64",
      "userId": "09113625274943472862"
     },
     "user_tz": -120
    },
    "id": "lgiNRV9MhIPQ",
    "outputId": "5ff366d2-afc0-4be9-f22d-29833dc8cdd5"
   },
   "outputs": [
    {
     "name": "stdout",
     "output_type": "stream",
     "text": [
      "tf.Tensor(\n",
      "[1.76150383 0.08628557 0.01546083 0.01225852 0.01755069 0.03502511\n",
      " 0.06879879 0.16056922 0.52553153 7.31701591], shape=(10,), dtype=float64)\n"
     ]
    }
   ],
   "source": [
    "# OPTIONAL: sample age weights\n",
    "import numpy as np\n",
    "step = 10\n",
    "labels = [int(x.split('|')[1]) for x in train_metadata]\n",
    "freqs, bins = np.histogram(labels, bins=list(range(0,100,step)) + [200])\n",
    "i_freqs = 1. / freqs\n",
    "sample_weights = tf.convert_to_tensor(len(i_freqs) * i_freqs / i_freqs.sum())\n",
    "print(sample_weights)\n",
    "ds_train_transform = ds_train_transform.map(lambda image, label: (image, label, sample_weights[tf.minimum(tf.cast(label, tf.int32) // step, len(i_freqs) - 1)]))\n",
    "ds_test_transform = ds_test_transform.map(lambda image, label: (image, label, sample_weights[tf.minimum(tf.cast(label, tf.int32) // step, len(i_freqs) - 1)]))"
   ]
  },
  {
   "cell_type": "code",
   "execution_count": 9,
   "metadata": {
    "executionInfo": {
     "elapsed": 303,
     "status": "ok",
     "timestamp": 1634385057992,
     "user": {
      "displayName": "Brais CB",
      "photoUrl": "https://lh3.googleusercontent.com/a/default-user=s64",
      "userId": "09113625274943472862"
     },
     "user_tz": -120
    },
    "id": "x0vHwUzTAjJ9"
   },
   "outputs": [],
   "source": [
    "batch_size = 128\n",
    "ds_train_batch = ds_train_transform.batch(batch_size)\n",
    "ds_test_batch = ds_test_transform.batch(batch_size)"
   ]
  },
  {
   "cell_type": "code",
   "execution_count": null,
   "metadata": {},
   "outputs": [],
   "source": []
  },
  {
   "attachments": {},
   "cell_type": "markdown",
   "metadata": {},
   "source": [
    "# Modelos"
   ]
  },
  {
   "attachments": {},
   "cell_type": "markdown",
   "metadata": {},
   "source": [
    "Cargamos el modelo para recuperar el extractor de caracteristicas."
   ]
  },
  {
   "cell_type": "code",
   "execution_count": 11,
   "metadata": {},
   "outputs": [],
   "source": [
    "loaded_model = tf.keras.models.load_model(\"prueba_age.h5\")"
   ]
  },
  {
   "cell_type": "code",
   "execution_count": 12,
   "metadata": {},
   "outputs": [
    {
     "name": "stdout",
     "output_type": "stream",
     "text": [
      "Model: \"model_1\"\n",
      "_________________________________________________________________\n",
      " Layer (type)                Output Shape              Param #   \n",
      "=================================================================\n",
      " Input_layer (InputLayer)    [(None, 32, 32, 3)]       0         \n",
      "                                                                 \n",
      " conv2d_3 (Conv2D)           (None, 30, 30, 32)        864       \n",
      "                                                                 \n",
      " batch_normalization_5 (Batc  (None, 30, 30, 32)       128       \n",
      " hNormalization)                                                 \n",
      "                                                                 \n",
      " max_pooling2d_3 (MaxPooling  (None, 15, 15, 32)       0         \n",
      " 2D)                                                             \n",
      "                                                                 \n",
      " conv2d_4 (Conv2D)           (None, 13, 13, 64)        18432     \n",
      "                                                                 \n",
      " batch_normalization_6 (Batc  (None, 13, 13, 64)       256       \n",
      " hNormalization)                                                 \n",
      "                                                                 \n",
      " max_pooling2d_4 (MaxPooling  (None, 6, 6, 64)         0         \n",
      " 2D)                                                             \n",
      "                                                                 \n",
      " conv2d_5 (Conv2D)           (None, 4, 4, 128)         73728     \n",
      "                                                                 \n",
      " batch_normalization_7 (Batc  (None, 4, 4, 128)        512       \n",
      " hNormalization)                                                 \n",
      "                                                                 \n",
      " max_pooling2d_5 (MaxPooling  (None, 2, 2, 128)        0         \n",
      " 2D)                                                             \n",
      "                                                                 \n",
      " Flatten_Layer (Flatten)     (None, 512)               0         \n",
      "                                                                 \n",
      " dense_2 (Dense)             (None, 16)                8192      \n",
      "                                                                 \n",
      " batch_normalization_8 (Batc  (None, 16)               64        \n",
      " hNormalization)                                                 \n",
      "                                                                 \n",
      " dense_3 (Dense)             (None, 16)                256       \n",
      "                                                                 \n",
      " batch_normalization_9 (Batc  (None, 16)               64        \n",
      " hNormalization)                                                 \n",
      "                                                                 \n",
      " Output_Layer (Dense)        (None, 1)                 17        \n",
      "                                                                 \n",
      "=================================================================\n",
      "Total params: 102,513\n",
      "Trainable params: 102,001\n",
      "Non-trainable params: 512\n",
      "_________________________________________________________________\n"
     ]
    }
   ],
   "source": [
    "loaded_model.summary()"
   ]
  },
  {
   "cell_type": "code",
   "execution_count": 22,
   "metadata": {},
   "outputs": [
    {
     "data": {
      "text/plain": [
       "<keras.layers.reshaping.flatten.Flatten at 0x7fee99e2fd00>"
      ]
     },
     "execution_count": 22,
     "metadata": {},
     "output_type": "execute_result"
    }
   ],
   "source": [
    "loaded_model.layers[10]"
   ]
  },
  {
   "cell_type": "code",
   "execution_count": 31,
   "metadata": {},
   "outputs": [],
   "source": [
    "import tensorflow as tf\n",
    "from tensorflow import keras\n",
    "\n",
    "\n",
    "loaded_model.trainable =  False\n",
    "\n",
    "from tensorflow.keras import Sequential\n",
    "new_model = Sequential()\n",
    "for layer in loaded_model.layers[:-1]:\n",
    "    new_model.add(layer)\n",
    "\n"
   ]
  },
  {
   "cell_type": "code",
   "execution_count": 32,
   "metadata": {},
   "outputs": [],
   "source": [
    "from tensorflow.keras.layers import Dense\n",
    "\n",
    "new_model.add(Dense(1, activation='sigmoid'))"
   ]
  },
  {
   "cell_type": "code",
   "execution_count": 33,
   "metadata": {},
   "outputs": [
    {
     "name": "stdout",
     "output_type": "stream",
     "text": [
      "Model: \"sequential_7\"\n",
      "_________________________________________________________________\n",
      " Layer (type)                Output Shape              Param #   \n",
      "=================================================================\n",
      " conv2d_3 (Conv2D)           (None, 30, 30, 32)        864       \n",
      "                                                                 \n",
      " batch_normalization_5 (Batc  (None, 30, 30, 32)       128       \n",
      " hNormalization)                                                 \n",
      "                                                                 \n",
      " max_pooling2d_3 (MaxPooling  (None, 15, 15, 32)       0         \n",
      " 2D)                                                             \n",
      "                                                                 \n",
      " conv2d_4 (Conv2D)           (None, 13, 13, 64)        18432     \n",
      "                                                                 \n",
      " batch_normalization_6 (Batc  (None, 13, 13, 64)       256       \n",
      " hNormalization)                                                 \n",
      "                                                                 \n",
      " max_pooling2d_4 (MaxPooling  (None, 6, 6, 64)         0         \n",
      " 2D)                                                             \n",
      "                                                                 \n",
      " conv2d_5 (Conv2D)           (None, 4, 4, 128)         73728     \n",
      "                                                                 \n",
      " batch_normalization_7 (Batc  (None, 4, 4, 128)        512       \n",
      " hNormalization)                                                 \n",
      "                                                                 \n",
      " max_pooling2d_5 (MaxPooling  (None, 2, 2, 128)        0         \n",
      " 2D)                                                             \n",
      "                                                                 \n",
      " Flatten_Layer (Flatten)     (None, 512)               0         \n",
      "                                                                 \n",
      " dense_2 (Dense)             (None, 16)                8192      \n",
      "                                                                 \n",
      " batch_normalization_8 (Batc  (None, 16)               64        \n",
      " hNormalization)                                                 \n",
      "                                                                 \n",
      " dense_3 (Dense)             (None, 16)                256       \n",
      "                                                                 \n",
      " batch_normalization_9 (Batc  (None, 16)               64        \n",
      " hNormalization)                                                 \n",
      "                                                                 \n",
      " dense_1 (Dense)             (None, 1)                 17        \n",
      "                                                                 \n",
      "=================================================================\n",
      "Total params: 102,513\n",
      "Trainable params: 17\n",
      "Non-trainable params: 102,496\n",
      "_________________________________________________________________\n"
     ]
    }
   ],
   "source": [
    "new_model.summary()"
   ]
  },
  {
   "cell_type": "code",
   "execution_count": null,
   "metadata": {},
   "outputs": [],
   "source": []
  }
 ],
 "metadata": {
  "accelerator": "GPU",
  "colab": {
   "collapsed_sections": [],
   "name": "Proyecto_naive_edad.ipynb",
   "provenance": []
  },
  "kernelspec": {
   "display_name": "dlenv",
   "language": "python",
   "name": "python3"
  },
  "language_info": {
   "codemirror_mode": {
    "name": "ipython",
    "version": 3
   },
   "file_extension": ".py",
   "mimetype": "text/x-python",
   "name": "python",
   "nbconvert_exporter": "python",
   "pygments_lexer": "ipython3",
   "version": "3.8.16"
  },
  "vscode": {
   "interpreter": {
    "hash": "938b2ea91d3ca84e9000febb0e54ebf186bff635263e13adeeb1d50953da44d5"
   }
  }
 },
 "nbformat": 4,
 "nbformat_minor": 1
}

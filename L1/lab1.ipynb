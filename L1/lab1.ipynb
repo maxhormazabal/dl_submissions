{
 "cells": [
  {
   "attachments": {},
   "cell_type": "markdown",
   "metadata": {},
   "source": [
    "# Lab 1: Deep Learning\n",
    "## Universidad Santiago de Compostela\n",
    "\n",
    "Students:\n",
    "- Víctor Barreiro Domínguez\n",
    "- Maximiliano Hormazábal Lagos\n"
   ]
  },
  {
   "attachments": {},
   "cell_type": "markdown",
   "metadata": {},
   "source": [
    "### Import libraries"
   ]
  },
  {
   "cell_type": "code",
   "execution_count": 1,
   "metadata": {},
   "outputs": [
    {
     "name": "stderr",
     "output_type": "stream",
     "text": [
      "2023-01-30 10:33:27.327179: I tensorflow/stream_executor/platform/default/dso_loader.cc:49] Successfully opened dynamic library libcudart.so.10.1\n"
     ]
    }
   ],
   "source": [
    "from tensorflow import keras\n",
    "from tensorflow.keras import layers\n",
    "from tensorflow.keras.utils import to_categorical"
   ]
  },
  {
   "attachments": {},
   "cell_type": "markdown",
   "metadata": {},
   "source": [
    "### Getting the MNIST dataset"
   ]
  },
  {
   "cell_type": "code",
   "execution_count": 2,
   "metadata": {},
   "outputs": [],
   "source": [
    "from tensorflow.keras.datasets import mnist"
   ]
  },
  {
   "cell_type": "code",
   "execution_count": 3,
   "metadata": {},
   "outputs": [],
   "source": [
    "# Loading the dataset in train and test sets\n",
    "(train_images, train_labels), (test_images, test_labels) = mnist.load_data()\n",
    "\n",
    "# Reshape to transform it into array with 2 dimensions\n",
    "n_samples_train,n_row,n_col = train_images.shape\n",
    "n_samples_test,_,_ = test_images.shape\n",
    "train_images = train_images.reshape((n_samples_train, n_row * n_col))\n",
    "test_images = test_images.reshape((n_samples_test, n_row * n_col))\n",
    "\n",
    "# Rescale of intensity of pixels in range (0,1) by dividing by the maximum intensity value\n",
    "max_intensity = 255\n",
    "train_images = train_images.astype('float32') / max_intensity\n",
    "test_images = test_images.astype('float32') / max_intensity"
   ]
  },
  {
   "attachments": {},
   "cell_type": "markdown",
   "metadata": {},
   "source": [
    "### Why do we transform intensity values in a [0,1] range?\n",
    "\n",
    "- Because values close to zero are more affordable for activation function.\n",
    "- We can initialize the weigths correctly\n",
    "\n",
    "The output of this neural network should be a \"number decision\" but the value is not a number itself but a category. That's why we need to convert it in a category using **One Hot Encoding**."
   ]
  },
  {
   "cell_type": "code",
   "execution_count": 4,
   "metadata": {},
   "outputs": [],
   "source": [
    "train_labels = to_categorical(train_labels)\n",
    "test_labels = to_categorical(test_labels)\n",
    "_,n_labels = train_labels.shape"
   ]
  },
  {
   "attachments": {},
   "cell_type": "markdown",
   "metadata": {},
   "source": [
    "## Neural Network Model"
   ]
  },
  {
   "cell_type": "code",
   "execution_count": 5,
   "metadata": {},
   "outputs": [
    {
     "name": "stderr",
     "output_type": "stream",
     "text": [
      "2023-01-30 10:33:29.223816: I tensorflow/compiler/jit/xla_cpu_device.cc:41] Not creating XLA devices, tf_xla_enable_xla_devices not set\n",
      "2023-01-30 10:33:29.225012: I tensorflow/stream_executor/platform/default/dso_loader.cc:49] Successfully opened dynamic library libcuda.so.1\n",
      "2023-01-30 10:33:29.671527: I tensorflow/stream_executor/cuda/cuda_gpu_executor.cc:941] successful NUMA node read from SysFS had negative value (-1), but there must be at least one NUMA node, so returning NUMA node zero\n",
      "2023-01-30 10:33:29.671744: I tensorflow/core/common_runtime/gpu/gpu_device.cc:1720] Found device 0 with properties: \n",
      "pciBusID: 0000:01:00.0 name: NVIDIA GeForce GTX 1650 Ti computeCapability: 7.5\n",
      "coreClock: 1.485GHz coreCount: 16 deviceMemorySize: 3.82GiB deviceMemoryBandwidth: 178.84GiB/s\n",
      "2023-01-30 10:33:29.671767: I tensorflow/stream_executor/platform/default/dso_loader.cc:49] Successfully opened dynamic library libcudart.so.10.1\n",
      "2023-01-30 10:33:29.673322: I tensorflow/stream_executor/platform/default/dso_loader.cc:49] Successfully opened dynamic library libcublas.so.10\n",
      "2023-01-30 10:33:29.673364: I tensorflow/stream_executor/platform/default/dso_loader.cc:49] Successfully opened dynamic library libcublasLt.so.10\n",
      "2023-01-30 10:33:29.674850: I tensorflow/stream_executor/platform/default/dso_loader.cc:49] Successfully opened dynamic library libcufft.so.10\n",
      "2023-01-30 10:33:29.675247: I tensorflow/stream_executor/platform/default/dso_loader.cc:49] Successfully opened dynamic library libcurand.so.10\n",
      "2023-01-30 10:33:29.676746: I tensorflow/stream_executor/platform/default/dso_loader.cc:49] Successfully opened dynamic library libcusolver.so.10\n",
      "2023-01-30 10:33:29.677403: I tensorflow/stream_executor/platform/default/dso_loader.cc:49] Successfully opened dynamic library libcusparse.so.10\n",
      "2023-01-30 10:33:29.679669: I tensorflow/stream_executor/platform/default/dso_loader.cc:49] Successfully opened dynamic library libcudnn.so.7\n",
      "2023-01-30 10:33:29.679783: I tensorflow/stream_executor/cuda/cuda_gpu_executor.cc:941] successful NUMA node read from SysFS had negative value (-1), but there must be at least one NUMA node, so returning NUMA node zero\n",
      "2023-01-30 10:33:29.680040: I tensorflow/stream_executor/cuda/cuda_gpu_executor.cc:941] successful NUMA node read from SysFS had negative value (-1), but there must be at least one NUMA node, so returning NUMA node zero\n",
      "2023-01-30 10:33:29.680344: I tensorflow/core/common_runtime/gpu/gpu_device.cc:1862] Adding visible gpu devices: 0\n",
      "2023-01-30 10:33:29.680924: I tensorflow/core/platform/cpu_feature_guard.cc:142] This TensorFlow binary is optimized with oneAPI Deep Neural Network Library (oneDNN) to use the following CPU instructions in performance-critical operations:  SSE4.1 SSE4.2 AVX AVX2 FMA\n",
      "To enable them in other operations, rebuild TensorFlow with the appropriate compiler flags.\n",
      "2023-01-30 10:33:29.681697: I tensorflow/compiler/jit/xla_gpu_device.cc:99] Not creating XLA devices, tf_xla_enable_xla_devices not set\n",
      "2023-01-30 10:33:29.681925: I tensorflow/stream_executor/cuda/cuda_gpu_executor.cc:941] successful NUMA node read from SysFS had negative value (-1), but there must be at least one NUMA node, so returning NUMA node zero\n",
      "2023-01-30 10:33:29.682250: I tensorflow/core/common_runtime/gpu/gpu_device.cc:1720] Found device 0 with properties: \n",
      "pciBusID: 0000:01:00.0 name: NVIDIA GeForce GTX 1650 Ti computeCapability: 7.5\n",
      "coreClock: 1.485GHz coreCount: 16 deviceMemorySize: 3.82GiB deviceMemoryBandwidth: 178.84GiB/s\n",
      "2023-01-30 10:33:29.682300: I tensorflow/stream_executor/platform/default/dso_loader.cc:49] Successfully opened dynamic library libcudart.so.10.1\n",
      "2023-01-30 10:33:29.682355: I tensorflow/stream_executor/platform/default/dso_loader.cc:49] Successfully opened dynamic library libcublas.so.10\n",
      "2023-01-30 10:33:29.682370: I tensorflow/stream_executor/platform/default/dso_loader.cc:49] Successfully opened dynamic library libcublasLt.so.10\n",
      "2023-01-30 10:33:29.682382: I tensorflow/stream_executor/platform/default/dso_loader.cc:49] Successfully opened dynamic library libcufft.so.10\n",
      "2023-01-30 10:33:29.682392: I tensorflow/stream_executor/platform/default/dso_loader.cc:49] Successfully opened dynamic library libcurand.so.10\n",
      "2023-01-30 10:33:29.682403: I tensorflow/stream_executor/platform/default/dso_loader.cc:49] Successfully opened dynamic library libcusolver.so.10\n",
      "2023-01-30 10:33:29.682415: I tensorflow/stream_executor/platform/default/dso_loader.cc:49] Successfully opened dynamic library libcusparse.so.10\n",
      "2023-01-30 10:33:29.682426: I tensorflow/stream_executor/platform/default/dso_loader.cc:49] Successfully opened dynamic library libcudnn.so.7\n",
      "2023-01-30 10:33:29.682501: I tensorflow/stream_executor/cuda/cuda_gpu_executor.cc:941] successful NUMA node read from SysFS had negative value (-1), but there must be at least one NUMA node, so returning NUMA node zero\n",
      "2023-01-30 10:33:29.682838: I tensorflow/stream_executor/cuda/cuda_gpu_executor.cc:941] successful NUMA node read from SysFS had negative value (-1), but there must be at least one NUMA node, so returning NUMA node zero\n",
      "2023-01-30 10:33:29.683084: I tensorflow/core/common_runtime/gpu/gpu_device.cc:1862] Adding visible gpu devices: 0\n",
      "2023-01-30 10:33:29.683127: I tensorflow/stream_executor/platform/default/dso_loader.cc:49] Successfully opened dynamic library libcudart.so.10.1\n",
      "2023-01-30 10:33:30.229060: I tensorflow/core/common_runtime/gpu/gpu_device.cc:1261] Device interconnect StreamExecutor with strength 1 edge matrix:\n",
      "2023-01-30 10:33:30.229102: I tensorflow/core/common_runtime/gpu/gpu_device.cc:1267]      0 \n",
      "2023-01-30 10:33:30.229106: I tensorflow/core/common_runtime/gpu/gpu_device.cc:1280] 0:   N \n",
      "2023-01-30 10:33:30.229307: I tensorflow/stream_executor/cuda/cuda_gpu_executor.cc:941] successful NUMA node read from SysFS had negative value (-1), but there must be at least one NUMA node, so returning NUMA node zero\n",
      "2023-01-30 10:33:30.229557: I tensorflow/stream_executor/cuda/cuda_gpu_executor.cc:941] successful NUMA node read from SysFS had negative value (-1), but there must be at least one NUMA node, so returning NUMA node zero\n",
      "2023-01-30 10:33:30.229770: I tensorflow/stream_executor/cuda/cuda_gpu_executor.cc:941] successful NUMA node read from SysFS had negative value (-1), but there must be at least one NUMA node, so returning NUMA node zero\n",
      "2023-01-30 10:33:30.229962: I tensorflow/core/common_runtime/gpu/gpu_device.cc:1406] Created TensorFlow device (/job:localhost/replica:0/task:0/device:GPU:0 with 3409 MB memory) -> physical GPU (device: 0, name: NVIDIA GeForce GTX 1650 Ti, pci bus id: 0000:01:00.0, compute capability: 7.5)\n"
     ]
    },
    {
     "data": {
      "image/png": "[encoded data removed]",
      "text/plain": [
       "<IPython.core.display.Image object>"
      ]
     },
     "execution_count": 5,
     "metadata": {},
     "output_type": "execute_result"
    }
   ],
   "source": [
    "# Defining layers and model\n",
    "input_layer = keras.layers.Input(shape=(n_row*n_col,),name = 'Input_Layer')\n",
    "dense1_layer = keras.layers.Dense(512, activation=\"relu\",name = 'Dense_Layer')(input_layer)\n",
    "output_layer = keras.layers.Dense(n_labels, activation=\"softmax\",name = 'Output_Layer')(dense1_layer)\n",
    "\n",
    "model = keras.Model(inputs=input_layer, outputs=output_layer)\n",
    "\n",
    "# Model compilation\n",
    "optimizers = keras.optimizers.RMSprop(learning_rate=0.01)\n",
    "model.compile(optimizer=optimizers, loss=\"categorical_crossentropy\",metrics=[\"accuracy\"])\n",
    "keras.utils.plot_model(model,show_shapes=True)"
   ]
  },
  {
   "cell_type": "code",
   "execution_count": 6,
   "metadata": {},
   "outputs": [
    {
     "name": "stdout",
     "output_type": "stream",
     "text": [
      "Model: \"model\"\n",
      "_________________________________________________________________\n",
      "Layer (type)                 Output Shape              Param #   \n",
      "=================================================================\n",
      "Input_Layer (InputLayer)     [(None, 784)]             0         \n",
      "_________________________________________________________________\n",
      "Dense_Layer (Dense)          (None, 512)               401920    \n",
      "_________________________________________________________________\n",
      "Output_Layer (Dense)         (None, 10)                5130      \n",
      "=================================================================\n",
      "Total params: 407,050\n",
      "Trainable params: 407,050\n",
      "Non-trainable params: 0\n",
      "_________________________________________________________________\n"
     ]
    }
   ],
   "source": [
    "model.summary()"
   ]
  },
  {
   "attachments": {},
   "cell_type": "markdown",
   "metadata": {},
   "source": [
    "The number of parameters in the second line (401920) is the result of = (784 (input size) * 512 (neurons in the dense layer)) + 512 (number of biases, one for each neuron), that means the number of conections between layers. The third line is 512*10 + 20 for the same reason.\n",
    "\n",
    "**Loss Function: ** Function to minimize, especifically cross-entropy means ** PENDIENTE **\n",
    "\n",
    "**ITERATION:** Each time you modify the weigths.\n",
    "**EPOCH:** Each time we use all of the training data.\n",
    "**BATCH SIZE:** Amount of values to take into account in each iteration inside of an epoch.\n",
    "\n",
    "**Questions**\n",
    "¿Cuál es el significado del loss y accuracy de una época? Es el último valor o el promedio de todas??\n",
    "¿Qué pasa si la división del total de los datos con batch size no es un entero? EL último set tiene una menor cantidad de valores? o se rellena con más valores???"
   ]
  },
  {
   "cell_type": "code",
   "execution_count": 7,
   "metadata": {},
   "outputs": [
    {
     "name": "stderr",
     "output_type": "stream",
     "text": [
      "2023-01-30 10:33:30.600333: I tensorflow/compiler/mlir/mlir_graph_optimization_pass.cc:116] None of the MLIR optimization passes are enabled (registered 2)\n",
      "2023-01-30 10:33:30.624223: I tensorflow/core/platform/profile_utils/cpu_utils.cc:112] CPU Frequency: 2599990000 Hz\n"
     ]
    },
    {
     "name": "stdout",
     "output_type": "stream",
     "text": [
      "Epoch 1/10\n"
     ]
    },
    {
     "name": "stderr",
     "output_type": "stream",
     "text": [
      "2023-01-30 10:33:30.931226: I tensorflow/stream_executor/platform/default/dso_loader.cc:49] Successfully opened dynamic library libcublas.so.10\n"
     ]
    },
    {
     "name": "stdout",
     "output_type": "stream",
     "text": [
      "469/469 [==============================] - 1s 2ms/step - loss: 0.6771 - accuracy: 0.8609\n",
      "Epoch 2/10\n",
      "469/469 [==============================] - 1s 2ms/step - loss: 0.1428 - accuracy: 0.9641\n",
      "Epoch 3/10\n",
      "469/469 [==============================] - 1s 2ms/step - loss: 0.1095 - accuracy: 0.9749\n",
      "Epoch 4/10\n",
      "469/469 [==============================] - 1s 2ms/step - loss: 0.0972 - accuracy: 0.9783\n",
      "Epoch 5/10\n",
      "469/469 [==============================] - 1s 2ms/step - loss: 0.0810 - accuracy: 0.9826\n",
      "Epoch 6/10\n",
      "469/469 [==============================] - 1s 2ms/step - loss: 0.0792 - accuracy: 0.9847\n",
      "Epoch 7/10\n",
      "469/469 [==============================] - 1s 2ms/step - loss: 0.0737 - accuracy: 0.9860\n",
      "Epoch 8/10\n",
      "469/469 [==============================] - 1s 2ms/step - loss: 0.0607 - accuracy: 0.9885\n",
      "Epoch 9/10\n",
      "469/469 [==============================] - 1s 2ms/step - loss: 0.0575 - accuracy: 0.9908\n",
      "Epoch 10/10\n",
      "469/469 [==============================] - 1s 2ms/step - loss: 0.0574 - accuracy: 0.9906\n",
      "313/313 [==============================] - 0s 1ms/step - loss: 0.2807 - accuracy: 0.9756\n"
     ]
    }
   ],
   "source": [
    "callback = keras.callbacks.EarlyStopping(monitor='loss', patience=5,restore_best_weights=True)\n",
    "model.fit(train_images, train_labels, epochs=10, batch_size=128)\n",
    "score = model.evaluate(test_images,test_labels)"
   ]
  },
  {
   "cell_type": "code",
   "execution_count": 8,
   "metadata": {},
   "outputs": [],
   "source": [
    "def buildModel(input_size, n_labels,optimizer = 'adam', learning_rate = 0.01, topology=[(512,\"relu\")]):\n",
    "    \"\"\"Function to generate MLPs according with the parameters. The models are designed for the image classification.\n",
    "\n",
    "    Args:\n",
    "        Input_size (int): Number of elements in the input.\n",
    "        n_labels (int): Number of possible labels.\n",
    "        optimizer (str, optional): Optimizer for trainning proxess. Defaults to 'adam'.\n",
    "        learning_rate (float, optional): Step in the trainning process. Defaults to 0.01.\n",
    "        topology (list, optional): List for specifies the topology of the network. One tuple in the list \n",
    "                                    for each leayer. Each tuple have to include the number of units and \n",
    "                                    the activation function. Defaults to [(512,\"relu\")].\n",
    "\n",
    "    Returns:\n",
    "        model: The object model compiled.\n",
    "    \"\"\"    \n",
    "\n",
    "    print(input_size)\n",
    "\n",
    "    # Defining layers and model\n",
    "    input_layer = keras.layers.Input(shape=(input_size,),name = 'Input_Layer')\n",
    "    previous_layer = input_layer\n",
    "    for layer in topology:\n",
    "        dense_layer = keras.layers.Dense(layer[0], activation=layer[1])(previous_layer)\n",
    "        previous_layer = dense_layer\n",
    "    output_layer = keras.layers.Dense(n_labels, activation=\"softmax\",name = 'Output_Layer')(previous_layer)\n",
    "\n",
    "    model = keras.Model(inputs=input_layer, outputs=output_layer)\n",
    "\n",
    "    #Valid optimizers\n",
    "    if(optimizer.lower() == 'adam'):\n",
    "        opt = keras.optimizers.Adam(learning_rate=learning_rate)\n",
    "    elif(optimizer.lower() == 'sgd'):\n",
    "        opt = keras.optimizers.SGD(learning_rate=learning_rate)\n",
    "    elif(optimizer.lower() == 'rmsprop'):\n",
    "        opt = keras.optimizers.RMSprop(learning_rate=learning_rate)\n",
    "    elif (optimizer.lower() == 'adamw'):\n",
    "        opt = keras.optimizers.AdamW(learning_rate=learning_rate)\n",
    "    elif (optimizer.lower() == 'adadelta'):\n",
    "        opt = keras.optimizers.Adadelta(learning_rate=learning_rate)\n",
    "    elif (optimizer.lower() == 'adagrad'):\n",
    "        opt = keras.optimizers.Adagrad(learning_rate=learning_rate)\n",
    "    elif (optimizer.lower() == 'adamax'):\n",
    "        opt = keras.optimizers.Adamax(learning_rate=learning_rate)\n",
    "    elif (optimizer.lower() == 'adafactor'):\n",
    "        opt = keras.optimizers.Adafactor(learning_rate=learning_rate)\n",
    "    elif (optimizer.lower() == 'nadam'):\n",
    "        opt = keras.optimizers.Nadam(learning_rate=learning_rate)\n",
    "    elif (optimizer.lower() == 'ftrl'):\n",
    "        opt = keras.optimizers.Ftrl(learning_rate=learning_rate)\n",
    "    else:\n",
    "        print('Optimizer not properly defined')\n",
    "\n",
    "    # Model compilation\n",
    "    opt = keras.optimizers.RMSprop(learning_rate=learning_rate)\n",
    "    model.compile(optimizer=opt, loss=\"categorical_crossentropy\",metrics=[\"accuracy\"])\n",
    "    print(model.summary())\n",
    "    keras.utils.plot_model(model,show_shapes=True)\n",
    "    return model\n",
    "\n",
    "def fitModel(model, train_images, train_labels, test_images, test_labels, epochs=10, batch_size=128, patience = 5):\n",
    "    #callback = keras.callbacks.EarlyStopping(monitor='loss', patience = patience,restore_best_weights=True)\n",
    "    model.fit(train_images, train_labels, epochs=epochs, batch_size=batch_size)\n",
    "    score = model.evaluate(test_images,test_labels)\n",
    "    return score"
   ]
  },
  {
   "cell_type": "code",
   "execution_count": 9,
   "metadata": {},
   "outputs": [],
   "source": [
    "# Loading the dataset in train and test sets\n",
    "(train_images, train_labels), (test_images, test_labels) = mnist.load_data()\n",
    "\n",
    "# Reshape to transform it into array with 2 dimensions\n",
    "n_samples_train,n_row,n_col = train_images.shape\n",
    "n_samples_test,_,_ = test_images.shape\n",
    "train_images = train_images.reshape((n_samples_train, n_row * n_col))\n",
    "test_images = test_images.reshape((n_samples_test, n_row * n_col))\n",
    "\n",
    "# Rescale of intensity of pixels in range (0,1) by dividing by the maximum intensity value\n",
    "max_intensity = 255\n",
    "train_images = train_images.astype('float32') / max_intensity\n",
    "test_images = test_images.astype('float32') / max_intensity\n",
    "\n",
    "train_labels = to_categorical(train_labels)\n",
    "test_labels = to_categorical(test_labels)\n",
    "_,n_labels = train_labels.shape"
   ]
  },
  {
   "cell_type": "code",
   "execution_count": 10,
   "metadata": {},
   "outputs": [
    {
     "name": "stdout",
     "output_type": "stream",
     "text": [
      "784\n",
      "Model: \"model_1\"\n",
      "_________________________________________________________________\n",
      "Layer (type)                 Output Shape              Param #   \n",
      "=================================================================\n",
      "Input_Layer (InputLayer)     [(None, 784)]             0         \n",
      "_________________________________________________________________\n",
      "dense (Dense)                (None, 512)               401920    \n",
      "_________________________________________________________________\n",
      "dense_1 (Dense)              (None, 512)               262656    \n",
      "_________________________________________________________________\n",
      "Output_Layer (Dense)         (None, 10)                5130      \n",
      "=================================================================\n",
      "Total params: 669,706\n",
      "Trainable params: 669,706\n",
      "Non-trainable params: 0\n",
      "_________________________________________________________________\n",
      "None\n"
     ]
    }
   ],
   "source": [
    "model = buildModel(int(train_images.shape[1]), n_labels, optimizer = 'adam', learning_rate = 0.01, topology=[(512,\"relu\"),(512,\"relu\")])"
   ]
  },
  {
   "cell_type": "code",
   "execution_count": 11,
   "metadata": {},
   "outputs": [
    {
     "name": "stdout",
     "output_type": "stream",
     "text": [
      "Epoch 1/10\n",
      "469/469 [==============================] - 1s 2ms/step - loss: 1.5764 - accuracy: 0.8210\n",
      "Epoch 2/10\n",
      "469/469 [==============================] - 1s 2ms/step - loss: 0.1950 - accuracy: 0.9513\n",
      "Epoch 3/10\n",
      "469/469 [==============================] - 1s 2ms/step - loss: 0.1681 - accuracy: 0.9612\n",
      "Epoch 4/10\n",
      "469/469 [==============================] - 1s 2ms/step - loss: 0.1528 - accuracy: 0.9653\n",
      "Epoch 5/10\n",
      "469/469 [==============================] - 1s 2ms/step - loss: 0.1546 - accuracy: 0.9673\n",
      "Epoch 6/10\n",
      "469/469 [==============================] - 1s 2ms/step - loss: 0.1361 - accuracy: 0.9714\n",
      "Epoch 7/10\n",
      "469/469 [==============================] - 1s 2ms/step - loss: 0.1342 - accuracy: 0.9736\n",
      "Epoch 8/10\n",
      "469/469 [==============================] - 1s 2ms/step - loss: 0.1293 - accuracy: 0.9745\n",
      "Epoch 9/10\n",
      "469/469 [==============================] - 1s 2ms/step - loss: 0.1215 - accuracy: 0.9767\n",
      "Epoch 10/10\n",
      "469/469 [==============================] - 1s 2ms/step - loss: 0.1178 - accuracy: 0.9784\n",
      "313/313 [==============================] - 0s 1ms/step - loss: 0.3369 - accuracy: 0.9548\n"
     ]
    },
    {
     "data": {
      "text/plain": [
       "[0.3369138240814209, 0.954800009727478]"
      ]
     },
     "execution_count": 11,
     "metadata": {},
     "output_type": "execute_result"
    }
   ],
   "source": [
    "fitModel(model, train_images, train_labels, test_images, test_labels, 10, 128, 5)"
   ]
  },
  {
   "cell_type": "code",
   "execution_count": 12,
   "metadata": {},
   "outputs": [
    {
     "name": "stdout",
     "output_type": "stream",
     "text": [
      "784\n",
      "Model: \"model_2\"\n",
      "_________________________________________________________________\n",
      "Layer (type)                 Output Shape              Param #   \n",
      "=================================================================\n",
      "Input_Layer (InputLayer)     [(None, 784)]             0         \n",
      "_________________________________________________________________\n",
      "dense_2 (Dense)              (None, 512)               401920    \n",
      "_________________________________________________________________\n",
      "dense_3 (Dense)              (None, 512)               262656    \n",
      "_________________________________________________________________\n",
      "Output_Layer (Dense)         (None, 10)                5130      \n",
      "=================================================================\n",
      "Total params: 669,706\n",
      "Trainable params: 669,706\n",
      "Non-trainable params: 0\n",
      "_________________________________________________________________\n",
      "None\n",
      "Epoch 1/10\n",
      "469/469 [==============================] - 1s 2ms/step - loss: 2.1265 - accuracy: 0.8236\n",
      "Epoch 2/10\n",
      "469/469 [==============================] - 1s 2ms/step - loss: 0.1843 - accuracy: 0.9535\n",
      "Epoch 3/10\n",
      "469/469 [==============================] - 1s 2ms/step - loss: 0.1632 - accuracy: 0.9620\n",
      "Epoch 4/10\n",
      "469/469 [==============================] - 1s 2ms/step - loss: 0.1514 - accuracy: 0.9673\n",
      "Epoch 5/10\n",
      "469/469 [==============================] - 1s 3ms/step - loss: 0.1395 - accuracy: 0.9681\n",
      "Epoch 6/10\n",
      "469/469 [==============================] - 1s 2ms/step - loss: 0.1372 - accuracy: 0.9702\n",
      "Epoch 7/10\n",
      "469/469 [==============================] - 1s 2ms/step - loss: 0.1242 - accuracy: 0.9759\n",
      "Epoch 8/10\n",
      "469/469 [==============================] - 1s 2ms/step - loss: 0.1136 - accuracy: 0.9773\n",
      "Epoch 9/10\n",
      "469/469 [==============================] - 1s 2ms/step - loss: 0.1112 - accuracy: 0.9778\n",
      "Epoch 10/10\n",
      "469/469 [==============================] - 1s 2ms/step - loss: 0.1192 - accuracy: 0.9778\n",
      "313/313 [==============================] - 0s 1ms/step - loss: 0.2633 - accuracy: 0.9643\n",
      "784\n",
      "Model: \"model_3\"\n",
      "_________________________________________________________________\n",
      "Layer (type)                 Output Shape              Param #   \n",
      "=================================================================\n",
      "Input_Layer (InputLayer)     [(None, 784)]             0         \n",
      "_________________________________________________________________\n",
      "dense_4 (Dense)              (None, 128)               100480    \n",
      "_________________________________________________________________\n",
      "Output_Layer (Dense)         (None, 10)                1290      \n",
      "=================================================================\n",
      "Total params: 101,770\n",
      "Trainable params: 101,770\n",
      "Non-trainable params: 0\n",
      "_________________________________________________________________\n",
      "None\n",
      "Epoch 1/10\n",
      "469/469 [==============================] - 1s 2ms/step - loss: 0.5649 - accuracy: 0.8583\n",
      "Epoch 2/10\n",
      "469/469 [==============================] - 1s 2ms/step - loss: 0.1283 - accuracy: 0.9635\n",
      "Epoch 3/10\n",
      "469/469 [==============================] - 1s 2ms/step - loss: 0.0999 - accuracy: 0.9723\n",
      "Epoch 4/10\n",
      "469/469 [==============================] - 1s 2ms/step - loss: 0.0874 - accuracy: 0.9775\n",
      "Epoch 5/10\n",
      "469/469 [==============================] - 1s 2ms/step - loss: 0.0769 - accuracy: 0.9800\n",
      "Epoch 6/10\n",
      "469/469 [==============================] - 1s 2ms/step - loss: 0.0733 - accuracy: 0.9822\n",
      "Epoch 7/10\n",
      "469/469 [==============================] - 1s 2ms/step - loss: 0.0579 - accuracy: 0.9851\n",
      "Epoch 8/10\n",
      "469/469 [==============================] - 1s 2ms/step - loss: 0.0546 - accuracy: 0.9873\n",
      "Epoch 9/10\n",
      "469/469 [==============================] - 1s 2ms/step - loss: 0.0486 - accuracy: 0.9883\n",
      "Epoch 10/10\n",
      "469/469 [==============================] - 1s 2ms/step - loss: 0.0434 - accuracy: 0.9891\n",
      "313/313 [==============================] - 0s 1ms/step - loss: 0.1898 - accuracy: 0.9770\n",
      "784\n",
      "Model: \"model_4\"\n",
      "_________________________________________________________________\n",
      "Layer (type)                 Output Shape              Param #   \n",
      "=================================================================\n",
      "Input_Layer (InputLayer)     [(None, 784)]             0         \n",
      "_________________________________________________________________\n",
      "dense_5 (Dense)              (None, 512)               401920    \n",
      "_________________________________________________________________\n",
      "dense_6 (Dense)              (None, 512)               262656    \n",
      "_________________________________________________________________\n",
      "Output_Layer (Dense)         (None, 10)                5130      \n",
      "=================================================================\n",
      "Total params: 669,706\n",
      "Trainable params: 669,706\n",
      "Non-trainable params: 0\n",
      "_________________________________________________________________\n",
      "None\n",
      "Epoch 1/10\n",
      "469/469 [==============================] - 1s 2ms/step - loss: 1.0981 - accuracy: 0.7409\n",
      "Epoch 2/10\n",
      "469/469 [==============================] - 1s 2ms/step - loss: 0.1107 - accuracy: 0.9674\n",
      "Epoch 3/10\n",
      "469/469 [==============================] - 1s 2ms/step - loss: 0.0736 - accuracy: 0.9787\n",
      "Epoch 4/10\n",
      "469/469 [==============================] - 1s 2ms/step - loss: 0.0541 - accuracy: 0.9841\n",
      "Epoch 5/10\n",
      "469/469 [==============================] - 1s 2ms/step - loss: 0.0449 - accuracy: 0.9876\n",
      "Epoch 6/10\n",
      "469/469 [==============================] - 1s 2ms/step - loss: 0.0390 - accuracy: 0.9883\n",
      "Epoch 7/10\n",
      "469/469 [==============================] - 1s 2ms/step - loss: 0.0368 - accuracy: 0.9908\n",
      "Epoch 8/10\n",
      "469/469 [==============================] - 1s 2ms/step - loss: 0.0308 - accuracy: 0.9912\n",
      "Epoch 9/10\n",
      "469/469 [==============================] - 1s 3ms/step - loss: 0.0271 - accuracy: 0.9929\n",
      "Epoch 10/10\n",
      "469/469 [==============================] - 1s 2ms/step - loss: 0.0246 - accuracy: 0.9937\n",
      "313/313 [==============================] - 0s 1ms/step - loss: 0.2016 - accuracy: 0.9759\n",
      "784\n",
      "Model: \"model_5\"\n",
      "_________________________________________________________________\n",
      "Layer (type)                 Output Shape              Param #   \n",
      "=================================================================\n",
      "Input_Layer (InputLayer)     [(None, 784)]             0         \n",
      "_________________________________________________________________\n",
      "dense_7 (Dense)              (None, 1024)              803840    \n",
      "_________________________________________________________________\n",
      "dense_8 (Dense)              (None, 1024)              1049600   \n",
      "_________________________________________________________________\n",
      "Output_Layer (Dense)         (None, 10)                10250     \n",
      "=================================================================\n",
      "Total params: 1,863,690\n",
      "Trainable params: 1,863,690\n",
      "Non-trainable params: 0\n",
      "_________________________________________________________________\n",
      "None\n",
      "Epoch 1/10\n",
      "469/469 [==============================] - 2s 4ms/step - loss: 4.3521 - accuracy: 0.8053\n",
      "Epoch 2/10\n",
      "469/469 [==============================] - 2s 4ms/step - loss: 0.2272 - accuracy: 0.9464\n",
      "Epoch 3/10\n",
      "469/469 [==============================] - 2s 3ms/step - loss: 0.1973 - accuracy: 0.9592\n",
      "Epoch 4/10\n",
      "469/469 [==============================] - 2s 4ms/step - loss: 0.1689 - accuracy: 0.9645\n",
      "Epoch 5/10\n",
      "469/469 [==============================] - 2s 4ms/step - loss: 0.1505 - accuracy: 0.9701\n",
      "Epoch 6/10\n",
      "469/469 [==============================] - 2s 4ms/step - loss: 0.1399 - accuracy: 0.9718\n",
      "Epoch 7/10\n",
      "469/469 [==============================] - 2s 4ms/step - loss: 0.1402 - accuracy: 0.9735\n",
      "Epoch 8/10\n",
      "469/469 [==============================] - 2s 4ms/step - loss: 0.1259 - accuracy: 0.9778\n",
      "Epoch 9/10\n",
      "469/469 [==============================] - 2s 3ms/step - loss: 0.1138 - accuracy: 0.9796\n",
      "Epoch 10/10\n",
      "469/469 [==============================] - 2s 3ms/step - loss: 0.1165 - accuracy: 0.9782\n",
      "313/313 [==============================] - 0s 1ms/step - loss: 0.2998 - accuracy: 0.9681\n"
     ]
    }
   ],
   "source": [
    "topologies=[[(512,\"relu\"),(512,\"relu\")], [(128,\"relu\")], [(512,\"sigmoid\"),(512,\"sigmoid\")], [(1024,\"relu\"),(1024,\"relu\")]]\n",
    "results = []\n",
    "for topology in topologies:\n",
    "    model = buildModel(train_images.shape[1], n_labels, optimizer = 'adam', learning_rate = 0.01, topology=topology)\n",
    "    result = fitModel(model, train_images, train_labels, test_images, test_labels, 10, 128, 5)\n",
    "    results.append(result)"
   ]
  },
  {
   "cell_type": "code",
   "execution_count": 13,
   "metadata": {},
   "outputs": [
    {
     "name": "stdout",
     "output_type": "stream",
     "text": [
      "[(512, 'relu'), (512, 'relu')]\n",
      "[0.2632893919944763, 0.9642999768257141]\n",
      "[(128, 'relu')]\n",
      "[0.1897825002670288, 0.9769999980926514]\n",
      "[(512, 'sigmoid'), (512, 'sigmoid')]\n",
      "[0.2016012817621231, 0.9758999943733215]\n",
      "[(1024, 'relu'), (1024, 'relu')]\n",
      "[0.299828439950943, 0.9681000113487244]\n"
     ]
    }
   ],
   "source": [
    "for i in range(len(topologies)):\n",
    "    print(topologies[i])\n",
    "    print(results[i])"
   ]
  },
  {
   "cell_type": "code",
   "execution_count": 14,
   "metadata": {},
   "outputs": [],
   "source": [
    "from tensorflow.keras.datasets import cifar10\n",
    "\n",
    "# Loading the dataset in train and test sets\n",
    "(train_images, train_labels), (test_images, test_labels) = cifar10.load_data()\n",
    "\n",
    "# Reshape to transform it into array with 2 dimensions\n",
    "n_samples_train,n_row,n_col,color = train_images.shape\n",
    "n_samples_test,_,_,_ = test_images.shape\n",
    "train_images = train_images.reshape((n_samples_train, n_row * n_col * color))\n",
    "test_images = test_images.reshape((n_samples_test, n_row * n_col * color))\n",
    "\n",
    "# Rescale of intensity of pixels in range (0,1) by dividing by the maximum intensity value\n",
    "max_intensity = 255\n",
    "train_images = train_images.astype('float32') / max_intensity\n",
    "test_images = test_images.astype('float32') / max_intensity\n",
    "\n",
    "train_labels = to_categorical(train_labels)\n",
    "test_labels = to_categorical(test_labels)\n",
    "_,n_labels = train_labels.shape"
   ]
  },
  {
   "cell_type": "code",
   "execution_count": 15,
   "metadata": {},
   "outputs": [
    {
     "name": "stdout",
     "output_type": "stream",
     "text": [
      "3072\n",
      "Model: \"model_6\"\n",
      "_________________________________________________________________\n",
      "Layer (type)                 Output Shape              Param #   \n",
      "=================================================================\n",
      "Input_Layer (InputLayer)     [(None, 3072)]            0         \n",
      "_________________________________________________________________\n",
      "dense_9 (Dense)              (None, 512)               1573376   \n",
      "_________________________________________________________________\n",
      "dense_10 (Dense)             (None, 512)               262656    \n",
      "_________________________________________________________________\n",
      "Output_Layer (Dense)         (None, 10)                5130      \n",
      "=================================================================\n",
      "Total params: 1,841,162\n",
      "Trainable params: 1,841,162\n",
      "Non-trainable params: 0\n",
      "_________________________________________________________________\n",
      "None\n",
      "Epoch 1/10\n",
      "391/391 [==============================] - 2s 5ms/step - loss: 28.7608 - accuracy: 0.1027\n",
      "Epoch 2/10\n",
      "391/391 [==============================] - 2s 4ms/step - loss: 2.3427 - accuracy: 0.0996\n",
      "Epoch 3/10\n",
      "391/391 [==============================] - 2s 4ms/step - loss: 2.3151 - accuracy: 0.0993\n",
      "Epoch 4/10\n",
      "391/391 [==============================] - 2s 4ms/step - loss: 2.3109 - accuracy: 0.1005\n",
      "Epoch 5/10\n",
      "391/391 [==============================] - 2s 4ms/step - loss: 2.3038 - accuracy: 0.1015\n",
      "Epoch 6/10\n",
      "391/391 [==============================] - 2s 4ms/step - loss: 2.3052 - accuracy: 0.1036\n",
      "Epoch 7/10\n",
      "391/391 [==============================] - 2s 4ms/step - loss: 2.3094 - accuracy: 0.0992\n",
      "Epoch 8/10\n",
      "391/391 [==============================] - 2s 4ms/step - loss: 2.3045 - accuracy: 0.1016\n",
      "Epoch 9/10\n",
      "391/391 [==============================] - 2s 4ms/step - loss: 2.3034 - accuracy: 0.0989\n",
      "Epoch 10/10\n",
      "391/391 [==============================] - 2s 4ms/step - loss: 2.3076 - accuracy: 0.1016\n",
      "313/313 [==============================] - 1s 2ms/step - loss: 2.3032 - accuracy: 0.1000\n",
      "Topology: [(512, 'relu'), (512, 'relu')]\n",
      "3072\n",
      "Model: \"model_7\"\n",
      "_________________________________________________________________\n",
      "Layer (type)                 Output Shape              Param #   \n",
      "=================================================================\n",
      "Input_Layer (InputLayer)     [(None, 3072)]            0         \n",
      "_________________________________________________________________\n",
      "dense_11 (Dense)             (None, 128)               393344    \n",
      "_________________________________________________________________\n",
      "Output_Layer (Dense)         (None, 10)                1290      \n",
      "=================================================================\n",
      "Total params: 394,634\n",
      "Trainable params: 394,634\n",
      "Non-trainable params: 0\n",
      "_________________________________________________________________\n",
      "None\n",
      "Epoch 1/10\n",
      "391/391 [==============================] - 2s 3ms/step - loss: 9.2952 - accuracy: 0.1171\n",
      "Epoch 2/10\n",
      "391/391 [==============================] - 1s 3ms/step - loss: 2.1414 - accuracy: 0.1641\n",
      "Epoch 3/10\n",
      "391/391 [==============================] - 1s 3ms/step - loss: 2.1291 - accuracy: 0.1811\n",
      "Epoch 4/10\n",
      "391/391 [==============================] - 1s 3ms/step - loss: 2.1201 - accuracy: 0.1785\n",
      "Epoch 5/10\n",
      "391/391 [==============================] - 1s 3ms/step - loss: 2.1114 - accuracy: 0.1851\n",
      "Epoch 6/10\n",
      "391/391 [==============================] - 1s 3ms/step - loss: 2.0824 - accuracy: 0.1939\n",
      "Epoch 7/10\n",
      "391/391 [==============================] - 1s 3ms/step - loss: 2.0711 - accuracy: 0.2105\n",
      "Epoch 8/10\n",
      "391/391 [==============================] - 1s 3ms/step - loss: 2.0340 - accuracy: 0.2376\n",
      "Epoch 9/10\n",
      "391/391 [==============================] - 1s 3ms/step - loss: 2.0103 - accuracy: 0.2458\n",
      "Epoch 10/10\n",
      "391/391 [==============================] - 1s 3ms/step - loss: 2.0102 - accuracy: 0.2381\n",
      "313/313 [==============================] - 1s 1ms/step - loss: 1.9943 - accuracy: 0.2482\n",
      "Topology: [(128, 'relu')]\n",
      "3072\n",
      "Model: \"model_8\"\n",
      "_________________________________________________________________\n",
      "Layer (type)                 Output Shape              Param #   \n",
      "=================================================================\n",
      "Input_Layer (InputLayer)     [(None, 3072)]            0         \n",
      "_________________________________________________________________\n",
      "dense_12 (Dense)             (None, 512)               1573376   \n",
      "_________________________________________________________________\n",
      "dense_13 (Dense)             (None, 512)               262656    \n",
      "_________________________________________________________________\n",
      "Output_Layer (Dense)         (None, 10)                5130      \n",
      "=================================================================\n",
      "Total params: 1,841,162\n",
      "Trainable params: 1,841,162\n",
      "Non-trainable params: 0\n",
      "_________________________________________________________________\n",
      "None\n",
      "Epoch 1/10\n",
      "391/391 [==============================] - 2s 4ms/step - loss: 3.1381 - accuracy: 0.1008\n",
      "Epoch 2/10\n",
      "391/391 [==============================] - 2s 4ms/step - loss: 2.7245 - accuracy: 0.1023\n",
      "Epoch 3/10\n",
      "391/391 [==============================] - 2s 4ms/step - loss: 2.6540 - accuracy: 0.1052\n",
      "Epoch 4/10\n",
      "391/391 [==============================] - 2s 4ms/step - loss: 2.4351 - accuracy: 0.1524\n",
      "Epoch 5/10\n",
      "391/391 [==============================] - 2s 4ms/step - loss: 2.3919 - accuracy: 0.1538\n",
      "Epoch 6/10\n",
      "391/391 [==============================] - 2s 4ms/step - loss: 2.3301 - accuracy: 0.1568\n",
      "Epoch 7/10\n",
      "391/391 [==============================] - 2s 4ms/step - loss: 2.3140 - accuracy: 0.1559\n",
      "Epoch 8/10\n",
      "391/391 [==============================] - 2s 4ms/step - loss: 2.2923 - accuracy: 0.1569\n",
      "Epoch 9/10\n",
      "391/391 [==============================] - 2s 4ms/step - loss: 2.2888 - accuracy: 0.1592\n",
      "Epoch 10/10\n",
      "391/391 [==============================] - 2s 4ms/step - loss: 2.2818 - accuracy: 0.1634\n",
      "313/313 [==============================] - 1s 2ms/step - loss: 2.2744 - accuracy: 0.1526\n",
      "Topology: [(512, 'sigmoid'), (512, 'sigmoid')]\n",
      "3072\n",
      "Model: \"model_9\"\n",
      "_________________________________________________________________\n",
      "Layer (type)                 Output Shape              Param #   \n",
      "=================================================================\n",
      "Input_Layer (InputLayer)     [(None, 3072)]            0         \n",
      "_________________________________________________________________\n",
      "dense_14 (Dense)             (None, 1024)              3146752   \n",
      "_________________________________________________________________\n",
      "dense_15 (Dense)             (None, 1024)              1049600   \n",
      "_________________________________________________________________\n",
      "Output_Layer (Dense)         (None, 10)                10250     \n",
      "=================================================================\n",
      "Total params: 4,206,602\n",
      "Trainable params: 4,206,602\n",
      "Non-trainable params: 0\n",
      "_________________________________________________________________\n",
      "None\n",
      "Epoch 1/10\n",
      "391/391 [==============================] - 3s 7ms/step - loss: 96.8048 - accuracy: 0.1069\n",
      "Epoch 2/10\n",
      "391/391 [==============================] - 3s 7ms/step - loss: 2.4000 - accuracy: 0.0990\n",
      "Epoch 3/10\n",
      "391/391 [==============================] - 3s 7ms/step - loss: 2.3424 - accuracy: 0.0998\n",
      "Epoch 4/10\n",
      "391/391 [==============================] - 3s 7ms/step - loss: 2.3254 - accuracy: 0.0981\n",
      "Epoch 5/10\n",
      "391/391 [==============================] - 3s 7ms/step - loss: 2.3516 - accuracy: 0.1006\n",
      "Epoch 6/10\n",
      "391/391 [==============================] - 3s 7ms/step - loss: 2.3061 - accuracy: 0.1003\n",
      "Epoch 7/10\n",
      "391/391 [==============================] - 3s 7ms/step - loss: 2.3009 - accuracy: 0.1075\n",
      "Epoch 8/10\n",
      "391/391 [==============================] - 3s 7ms/step - loss: 2.1320 - accuracy: 0.1672\n",
      "Epoch 9/10\n",
      "391/391 [==============================] - 3s 7ms/step - loss: 2.0958 - accuracy: 0.1833\n",
      "Epoch 10/10\n",
      "391/391 [==============================] - 3s 7ms/step - loss: 2.0808 - accuracy: 0.1840\n",
      "313/313 [==============================] - 1s 2ms/step - loss: 2.0660 - accuracy: 0.1919\n",
      "Topology: [(1024, 'relu'), (1024, 'relu')]\n"
     ]
    }
   ],
   "source": [
    "topologies=[[(512,\"relu\"),(512,\"relu\")], [(128,\"relu\")], [(512,\"sigmoid\"),(512,\"sigmoid\")], [(1024,\"relu\"),(1024,\"relu\")]]\n",
    "results = []\n",
    "for topology in topologies:\n",
    "    model = buildModel(train_images.shape[1], n_labels,optimizer = 'adam', learning_rate = 0.01, topology=topology)\n",
    "    result = fitModel(model, train_images, train_labels, test_images, test_labels, 10, 128, 5)\n",
    "    print(\"Topology: \" + str(topology))\n",
    "    results.append(result)"
   ]
  },
  {
   "cell_type": "code",
   "execution_count": 16,
   "metadata": {},
   "outputs": [
    {
     "name": "stdout",
     "output_type": "stream",
     "text": [
      "[(512, 'relu'), (512, 'relu')]\n",
      "[2.3031530380249023, 0.10000000149011612]\n",
      "[(128, 'relu')]\n",
      "[1.994344711303711, 0.24819999933242798]\n",
      "[(512, 'sigmoid'), (512, 'sigmoid')]\n",
      "[2.2744340896606445, 0.1526000052690506]\n",
      "[(1024, 'relu'), (1024, 'relu')]\n",
      "[2.065971612930298, 0.19189999997615814]\n"
     ]
    }
   ],
   "source": [
    "for i in range(len(topologies)):\n",
    "    print(topologies[i])\n",
    "    print(results[i])"
   ]
  }
 ],
 "metadata": {
  "kernelspec": {
   "display_name": "mia2cuadri",
   "language": "python",
   "name": "python3"
  },
  "language_info": {
   "codemirror_mode": {
    "name": "ipython",
    "version": 3
   },
   "file_extension": ".py",
   "mimetype": "text/x-python",
   "name": "python",
   "nbconvert_exporter": "python",
   "pygments_lexer": "ipython3",
   "version": "3.8.16 (default, Jan 17 2023, 23:13:24) \n[GCC 11.2.0]"
  },
  "orig_nbformat": 4,
  "vscode": {
   "interpreter": {
    "hash": "6b45dcf2efbfd8e399682566f2d41b8d8992e7390789a3a2f8f117600bf1acfb"
   }
  }
 },
 "nbformat": 4,
 "nbformat_minor": 2
}
